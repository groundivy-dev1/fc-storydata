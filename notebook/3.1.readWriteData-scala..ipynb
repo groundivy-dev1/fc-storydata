﻿{
  "metadata": {
    "name": "1.readSource-scala",
    "kernelspec": {
      "language": "scala",
      "name": "spark2-scala"
    },
    "language_info": {
      "codemirror_mode": "text/x-scala",
      "file_extension": ".scala",
      "mimetype": "text/x-scala",
      "name": "scala",
      "pygments_lexer": "scala"
    }
  },
  "nbformat": 4,
  "nbformat_minor": 2,
  "cells": [
    {
      "cell_type": "code",
      "execution_count": 0,
      "metadata": {
        "autoscroll": "auto"
      },
      "outputs": [],
      "source": "val csvDF \u003d spark.read\n  .option(\"header\", \"true\")\n  .option(\"delimiter\", \",\")  \n  .option(\"inferSchema\",\"true\")\n  .csv(\"s3://fc-storydata/ods/danji_master.csv\")\n  \n  "
    },
    {
      "cell_type": "code",
      "execution_count": 1,
      "metadata": {
        "autoscroll": "auto"
      },
      "outputs": [],
      "source": "csvDF.show"
    },
    {
      "cell_type": "code",
      "execution_count": 2,
      "metadata": {
        "autoscroll": "auto"
      },
      "outputs": [],
      "source": "csvDF.show"
    },
    {
      "cell_type": "code",
      "execution_count": 3,
      "metadata": {
        "autoscroll": "auto"
      },
      "outputs": [],
      "source": "csvDF.printSchema"
    },
    {
      "cell_type": "code",
      "execution_count": 4,
      "metadata": {
        "autoscroll": "auto"
      },
      "outputs": [],
      "source": "csvDF.createOrReplaceTempView(\"danji_master_csv\")"
    },
    {
      "cell_type": "code",
      "execution_count": 5,
      "metadata": {
        "autoscroll": "auto"
      },
      "outputs": [],
      "source": "%sql\nselect *\nfrom danji_master_csv\n"
    },
    {
      "cell_type": "code",
      "execution_count": 6,
      "metadata": {
        "autoscroll": "auto"
      },
      "outputs": [],
      "source": "csvDF.coalesce(1)\n      .write\n      .mode(\"overwrite\")\n      .format(\"json\")\n      .save(\"s3://fc-storydata/target/danji_json/\")\n  "
    },
    {
      "cell_type": "code",
      "execution_count": 7,
      "metadata": {
        "autoscroll": "auto"
      },
      "outputs": [],
      "source": "val jsonDF \u003d spark.read.json(\"s3://fc-storydata/target/danji_json/part-00000-bc9d93c0-ab54-43c5-b714-22175040fed3-c000.json\")\n"
    },
    {
      "cell_type": "code",
      "execution_count": 8,
      "metadata": {
        "autoscroll": "auto"
      },
      "outputs": [],
      "source": "jsonDF.show"
    },
    {
      "cell_type": "code",
      "execution_count": 9,
      "metadata": {
        "autoscroll": "auto"
      },
      "outputs": [],
      "source": "jsonDF.printSchema"
    },
    {
      "cell_type": "code",
      "execution_count": 10,
      "metadata": {
        "autoscroll": "auto"
      },
      "outputs": [],
      "source": "jsonDF.createOrReplaceTempView(\"danji_master_json\")"
    },
    {
      "cell_type": "code",
      "execution_count": 11,
      "metadata": {
        "autoscroll": "auto"
      },
      "outputs": [],
      "source": "%sql\nselect *\nfrom danji_master_json"
    },
    {
      "cell_type": "code",
      "execution_count": 12,
      "metadata": {
        "autoscroll": "auto"
      },
      "outputs": [],
      "source": "jsonDF.write\n      .mode(\"overwrite\")\n      .format(\"parquet\")\n      .save(\"s3://fc-storydata/target/danji_parquet/\")"
    },
    {
      "cell_type": "code",
      "execution_count": 13,
      "metadata": {
        "autoscroll": "auto"
      },
      "outputs": [],
      "source": "val parquetDF \u003d spark.read.parquet(\"s3://fc-storydata/target/danji_parquet/\")\n"
    },
    {
      "cell_type": "code",
      "execution_count": 14,
      "metadata": {
        "autoscroll": "auto"
      },
      "outputs": [],
      "source": "parquetDF.printSchema"
    },
    {
      "cell_type": "code",
      "execution_count": 15,
      "metadata": {
        "autoscroll": "auto"
      },
      "outputs": [],
      "source": "parquetDF.createOrReplaceTempView(\"danji_master_pq\")\n"
    },
    {
      "cell_type": "code",
      "execution_count": 16,
      "metadata": {
        "autoscroll": "auto"
      },
      "outputs": [],
      "source": "%sql\nselect *\nfrom danji_master_pq"
    },
    {
      "cell_type": "code",
      "execution_count": 17,
      "metadata": {
        "autoscroll": "auto"
      },
      "outputs": [],
      "source": "parquetDF.coalesce(1)\n      .write\n      .mode(\"overwrite\")\n      .format(\"csv\")\n      .save(\"s3://fc-storydata/target/danji_csv/\")"
    }
  ]
}