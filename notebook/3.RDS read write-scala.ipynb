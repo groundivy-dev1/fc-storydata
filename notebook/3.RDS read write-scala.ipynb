﻿{
  "metadata": {
    "name": "3.RDS read write-scala",
    "kernelspec": {
      "language": "scala",
      "name": "spark2-scala"
    },
    "language_info": {
      "codemirror_mode": "text/x-scala",
      "file_extension": ".scala",
      "mimetype": "text/x-scala",
      "name": "scala",
      "pygments_lexer": "scala"
    }
  },
  "nbformat": 4,
  "nbformat_minor": 2,
  "cells": [
    {
      "cell_type": "code",
      "execution_count": 0,
      "metadata": {
        "autoscroll": "auto"
      },
      "outputs": [],
      "source": "import java.sql.Connection\nimport java.sql.Statement\nimport java.sql.DriverManager"
    },
    {
      "cell_type": "code",
      "execution_count": 1,
      "metadata": {
        "autoscroll": "auto"
      },
      "outputs": [],
      "source": "\nval url \u003d \"jdbc:mysql://daxxry-fc.xxxds.ap-northeast-2.rds.amazonaws.com:3306/pipelinedb?characterEncoding\u003dUTF-8\"\nval user: String \u003d\"pipeline\"\nval pass: String\u003d\"xxx12#\" \n \n \nval prop \u003d new java.util.Properties\nprop.setProperty(\"driver\", \"com.mysql.jdbc.Driver\")\nprop.setProperty(\"user\", user)\nprop.setProperty(\"password\",pass) \n \n\n  \n \n \n  "
    },
    {
      "cell_type": "code",
      "execution_count": 2,
      "metadata": {
        "autoscroll": "auto"
      },
      "outputs": [],
      "source": "\nval csvDF \u003d spark.read\n  .option(\"header\", \"true\")\n  .option(\"delimiter\", \",\")\n  .option(\"inferSchema\",\"true\")\n  .csv(\"s3://fc-storydata/ods/danji_master.csv\")\n  "
    },
    {
      "cell_type": "code",
      "execution_count": 3,
      "metadata": {
        "autoscroll": "auto"
      },
      "outputs": [],
      "source": "\ncsvDF.createOrReplaceTempView(\"danji_master_pq\")"
    },
    {
      "cell_type": "code",
      "execution_count": 4,
      "metadata": {
        "autoscroll": "auto"
      },
      "outputs": [],
      "source": "%sql\n\nselect id, \n       danji_name,\n       new_address,\n       sido,\n       sigungu,\n       dong\nfrom danji_master_pq"
    },
    {
      "cell_type": "code",
      "execution_count": 5,
      "metadata": {
        "autoscroll": "auto"
      },
      "outputs": [],
      "source": "val table1 \u003d \"danji_master_rds\"\n\nval df \u003d spark.sql(\"\"\"\n            select id, \n                   danji_name,\n                   new_address,\n                   sido,\n                   sigungu,\n                   dong\n            from danji_master_pq\n                      \"\"\")\n\n df.write.mode(\"append\").jdbc(url, table1, prop)"
    },
    {
      "cell_type": "code",
      "execution_count": 6,
      "metadata": {
        "autoscroll": "auto"
      },
      "outputs": [],
      "source": "val areaQuery \u003d \"\"\"(\n        select  *\n        from danji_master_rds a\n\n ) a\"\"\"\n \n \n val salesQuery \u003d \"\"\"(\n        select  *\n        from apart_sales_info b\n\n ) b\"\"\"\n \n  val danjiMasterDF \u003d spark.read.format(\"jdbc\").option(\"url\",url).option(\"dbtable\", areaQuery).option(\"user\", user).option(\"password\", pass).option(\"useUnicode\", \"true\").option(\"characterEncoding\",\"utf8\").load()\n\n  val danjiSalesDF \u003d spark.read.format(\"jdbc\").option(\"url\",url).option(\"dbtable\", salesQuery).option(\"user\", user).option(\"password\", pass).option(\"useUnicode\", \"true\").option(\"characterEncoding\",\"utf8\").load()  \n  \n  \n  \n  \n  "
    },
    {
      "cell_type": "code",
      "execution_count": 7,
      "metadata": {
        "autoscroll": "auto"
      },
      "outputs": [],
      "source": "danjiSalesDF.show"
    },
    {
      "cell_type": "code",
      "execution_count": 8,
      "metadata": {
        "autoscroll": "auto"
      },
      "outputs": [],
      "source": "danjiMasterDF.createOrReplaceTempView(\"danji_master\")\n\ndanjiSalesDF.createOrReplaceTempView(\"danji_sales\")\n"
    },
    {
      "cell_type": "code",
      "execution_count": 9,
      "metadata": {
        "autoscroll": "auto"
      },
      "outputs": [],
      "source": "%sql \nselect b.sido, b.gugun, b.dong, count(*) as cnt\nfrom danji_master a\njoin danji_sales b on a.id \u003d b.id\nwhere b.total_units \u003e 200\ngroup by b.sido, b.gugun, b.dong"
    },
    {
      "cell_type": "code",
      "execution_count": 10,
      "metadata": {},
      "outputs": [],
      "source": "%%sql\n"
    }
  ]
}